{
 "cells": [
  {
   "cell_type": "markdown",
   "id": "b91a9059",
   "metadata": {},
   "source": [
    "# Chapter 2 Exercises\n",
    "(code from the book ommitted, for all code see https://github.com/chrismarch/handson-ml2/blob/scratch/my_exercises/02_housing.ipynb)"
   ]
  },
  {
   "cell_type": "markdown",
   "id": "86c5cc1a",
   "metadata": {},
   "source": [
    "## Exercises"
   ]
  },
  {
   "cell_type": "markdown",
   "id": "f7682144",
   "metadata": {},
   "source": [
    "### 3.\n",
    "_Try adding a transformer in the preparation pipeline to select only the most important attributes._"
   ]
  },
  {
   "cell_type": "code",
   "execution_count": 286,
   "id": "2064b102",
   "metadata": {},
   "outputs": [],
   "source": [
    "attr_importance_keys = [(0.07018844338668656, 'longitude'),\n",
    "                         (0.06572920486010417, 'latitude'),\n",
    "                         (0.04392442557127467, 'housing_median_age'),\n",
    "                         (0.018234153133016164, 'total_rooms'),\n",
    "                         (0.017251025186756457, 'total_bedrooms'),\n",
    "                         (0.018596664475987897, 'population'),\n",
    "                         (0.016426911454390992, 'households'),\n",
    "                         (0.3249135832843868, 'median_income'),\n",
    "                         (0.044920715004200605, 'rooms_per_hhold'),\n",
    "                         (0.11192596408323675, 'pop_per_hhold'),\n",
    "                         (0.09130381482693158, 'bedrooms_per_room'),\n",
    "                         (0.007789495387075562, '<1H OCEAN'),\n",
    "                         (0.16079271914838195, 'INLAND'),\n",
    "                         (7.147414251453851e-05, 'ISLAND'),\n",
    "                         (0.0028247759312050014, 'NEAR BAY'),\n",
    "                         (0.005106630123850322, 'NEAR OCEAN')]\n",
    "attr_importance_keys\n",
    "\n",
    "class AttributesDropper(BaseEstimator, TransformerMixin):\n",
    "    \n",
    "    def __init__(self, min_importance=0.02): # no *args or **kargs\n",
    "        self.min_importance = min_importance\n",
    "        self.cols_to_drop = []\n",
    "        for i, t in enumerate(attr_importance_keys):\n",
    "            #print(i, t)\n",
    "            if t[0] < self.min_importance:\n",
    "                self.cols_to_drop.append(i)\n",
    "        #print(self.cols_to_drop)\n",
    "                \n",
    "    def fit(self, X, y=None):\n",
    "        return self  # nothing else to do\n",
    "    \n",
    "    def transform(self, X):\n",
    "        self.cols_to_drop = []\n",
    "        for i, t in enumerate(attr_importance_keys):\n",
    "            if i >= np.size(X, 1):\n",
    "                continue\n",
    "            #print(i, t)\n",
    "            if t[0] < self.min_importance:\n",
    "                self.cols_to_drop.append(i)\n",
    "                \n",
    "        #print(self.cols_to_drop)\n",
    "        #print(X)\n",
    "        return np.delete(X, self.cols_to_drop, 1)\n",
    "\n",
    "attr_drpr = AttributesDropper()#min_importance=0.02)\n",
    "#housing_extra_attribs = attr_adder.transform(housing.values)"
   ]
  },
  {
   "cell_type": "markdown",
   "id": "4620b0a9",
   "metadata": {},
   "source": [
    "### 4.\n",
    "_Try creating a single pipeline that does the full data preparation plus the final prediction._"
   ]
  },
  {
   "cell_type": "markdown",
   "id": "3fc491c3",
   "metadata": {},
   "source": [
    "### 5. (out of order)\n",
    "_Automatically explore some preparation options using GridSearchCV._"
   ]
  },
  {
   "cell_type": "code",
   "execution_count": 299,
   "id": "dc74bc80",
   "metadata": {},
   "outputs": [
    {
     "name": "stdout",
     "output_type": "stream",
     "text": [
      "Fitting 3 folds for each of 3 candidates, totalling 9 fits\n"
     ]
    },
    {
     "name": "stderr",
     "output_type": "stream",
     "text": [
      "/Users/chrismarch/OtherRepos/ml/ml_env/lib/python3.8/site-packages/sklearn/model_selection/_validation.py:770: UserWarning: Scoring failed. The score on this train-test partition for these parameters will be set to nan. Details: \n",
      "Traceback (most recent call last):\n",
      "  File \"/Users/chrismarch/OtherRepos/ml/ml_env/lib/python3.8/site-packages/sklearn/model_selection/_validation.py\", line 761, in _score\n",
      "    scores = scorer(estimator, X_test, y_test)\n",
      "  File \"/Users/chrismarch/OtherRepos/ml/ml_env/lib/python3.8/site-packages/sklearn/metrics/_scorer.py\", line 216, in __call__\n",
      "    return self._score(\n",
      "  File \"/Users/chrismarch/OtherRepos/ml/ml_env/lib/python3.8/site-packages/sklearn/metrics/_scorer.py\", line 258, in _score\n",
      "    y_pred = method_caller(estimator, \"predict\", X)\n",
      "  File \"/Users/chrismarch/OtherRepos/ml/ml_env/lib/python3.8/site-packages/sklearn/metrics/_scorer.py\", line 68, in _cached_call\n",
      "    return getattr(estimator, method)(*args, **kwargs)\n",
      "  File \"/Users/chrismarch/OtherRepos/ml/ml_env/lib/python3.8/site-packages/sklearn/utils/metaestimators.py\", line 113, in <lambda>\n",
      "    out = lambda *args, **kwargs: self.fn(obj, *args, **kwargs)  # noqa\n",
      "  File \"/Users/chrismarch/OtherRepos/ml/ml_env/lib/python3.8/site-packages/sklearn/pipeline.py\", line 469, in predict\n",
      "    Xt = transform.transform(Xt)\n",
      "  File \"/Users/chrismarch/OtherRepos/ml/ml_env/lib/python3.8/site-packages/sklearn/compose/_column_transformer.py\", line 748, in transform\n",
      "    Xs = self._fit_transform(\n",
      "  File \"/Users/chrismarch/OtherRepos/ml/ml_env/lib/python3.8/site-packages/sklearn/compose/_column_transformer.py\", line 606, in _fit_transform\n",
      "    return Parallel(n_jobs=self.n_jobs)(\n",
      "  File \"/Users/chrismarch/OtherRepos/ml/ml_env/lib/python3.8/site-packages/joblib/parallel.py\", line 1046, in __call__\n",
      "    while self.dispatch_one_batch(iterator):\n",
      "  File \"/Users/chrismarch/OtherRepos/ml/ml_env/lib/python3.8/site-packages/joblib/parallel.py\", line 861, in dispatch_one_batch\n",
      "    self._dispatch(tasks)\n",
      "  File \"/Users/chrismarch/OtherRepos/ml/ml_env/lib/python3.8/site-packages/joblib/parallel.py\", line 779, in _dispatch\n",
      "    job = self._backend.apply_async(batch, callback=cb)\n",
      "  File \"/Users/chrismarch/OtherRepos/ml/ml_env/lib/python3.8/site-packages/joblib/_parallel_backends.py\", line 208, in apply_async\n",
      "    result = ImmediateResult(func)\n",
      "  File \"/Users/chrismarch/OtherRepos/ml/ml_env/lib/python3.8/site-packages/joblib/_parallel_backends.py\", line 572, in __init__\n",
      "    self.results = batch()\n",
      "  File \"/Users/chrismarch/OtherRepos/ml/ml_env/lib/python3.8/site-packages/joblib/parallel.py\", line 262, in __call__\n",
      "    return [func(*args, **kwargs)\n",
      "  File \"/Users/chrismarch/OtherRepos/ml/ml_env/lib/python3.8/site-packages/joblib/parallel.py\", line 262, in <listcomp>\n",
      "    return [func(*args, **kwargs)\n",
      "  File \"/Users/chrismarch/OtherRepos/ml/ml_env/lib/python3.8/site-packages/sklearn/utils/fixes.py\", line 216, in __call__\n",
      "    return self.function(*args, **kwargs)\n",
      "  File \"/Users/chrismarch/OtherRepos/ml/ml_env/lib/python3.8/site-packages/sklearn/pipeline.py\", line 876, in _transform_one\n",
      "    res = transformer.transform(X)\n",
      "  File \"/Users/chrismarch/OtherRepos/ml/ml_env/lib/python3.8/site-packages/sklearn/preprocessing/_encoders.py\", line 509, in transform\n",
      "    X_int, X_mask = self._transform(\n",
      "  File \"/Users/chrismarch/OtherRepos/ml/ml_env/lib/python3.8/site-packages/sklearn/preprocessing/_encoders.py\", line 142, in _transform\n",
      "    raise ValueError(msg)\n",
      "ValueError: Found unknown categories ['ISLAND'] in column 0 during transform\n",
      "\n",
      "  warnings.warn(\n"
     ]
    },
    {
     "name": "stdout",
     "output_type": "stream",
     "text": [
      "[CV] END .....................dropper__min_importance=0.0001; total time=   6.9s\n",
      "[CV] END .....................dropper__min_importance=0.0001; total time=   6.8s\n",
      "[CV] END .....................dropper__min_importance=0.0001; total time=   6.8s\n"
     ]
    },
    {
     "name": "stderr",
     "output_type": "stream",
     "text": [
      "/Users/chrismarch/OtherRepos/ml/ml_env/lib/python3.8/site-packages/sklearn/model_selection/_validation.py:770: UserWarning: Scoring failed. The score on this train-test partition for these parameters will be set to nan. Details: \n",
      "Traceback (most recent call last):\n",
      "  File \"/Users/chrismarch/OtherRepos/ml/ml_env/lib/python3.8/site-packages/sklearn/model_selection/_validation.py\", line 761, in _score\n",
      "    scores = scorer(estimator, X_test, y_test)\n",
      "  File \"/Users/chrismarch/OtherRepos/ml/ml_env/lib/python3.8/site-packages/sklearn/metrics/_scorer.py\", line 216, in __call__\n",
      "    return self._score(\n",
      "  File \"/Users/chrismarch/OtherRepos/ml/ml_env/lib/python3.8/site-packages/sklearn/metrics/_scorer.py\", line 258, in _score\n",
      "    y_pred = method_caller(estimator, \"predict\", X)\n",
      "  File \"/Users/chrismarch/OtherRepos/ml/ml_env/lib/python3.8/site-packages/sklearn/metrics/_scorer.py\", line 68, in _cached_call\n",
      "    return getattr(estimator, method)(*args, **kwargs)\n",
      "  File \"/Users/chrismarch/OtherRepos/ml/ml_env/lib/python3.8/site-packages/sklearn/utils/metaestimators.py\", line 113, in <lambda>\n",
      "    out = lambda *args, **kwargs: self.fn(obj, *args, **kwargs)  # noqa\n",
      "  File \"/Users/chrismarch/OtherRepos/ml/ml_env/lib/python3.8/site-packages/sklearn/pipeline.py\", line 469, in predict\n",
      "    Xt = transform.transform(Xt)\n",
      "  File \"/Users/chrismarch/OtherRepos/ml/ml_env/lib/python3.8/site-packages/sklearn/compose/_column_transformer.py\", line 748, in transform\n",
      "    Xs = self._fit_transform(\n",
      "  File \"/Users/chrismarch/OtherRepos/ml/ml_env/lib/python3.8/site-packages/sklearn/compose/_column_transformer.py\", line 606, in _fit_transform\n",
      "    return Parallel(n_jobs=self.n_jobs)(\n",
      "  File \"/Users/chrismarch/OtherRepos/ml/ml_env/lib/python3.8/site-packages/joblib/parallel.py\", line 1046, in __call__\n",
      "    while self.dispatch_one_batch(iterator):\n",
      "  File \"/Users/chrismarch/OtherRepos/ml/ml_env/lib/python3.8/site-packages/joblib/parallel.py\", line 861, in dispatch_one_batch\n",
      "    self._dispatch(tasks)\n",
      "  File \"/Users/chrismarch/OtherRepos/ml/ml_env/lib/python3.8/site-packages/joblib/parallel.py\", line 779, in _dispatch\n",
      "    job = self._backend.apply_async(batch, callback=cb)\n",
      "  File \"/Users/chrismarch/OtherRepos/ml/ml_env/lib/python3.8/site-packages/joblib/_parallel_backends.py\", line 208, in apply_async\n",
      "    result = ImmediateResult(func)\n",
      "  File \"/Users/chrismarch/OtherRepos/ml/ml_env/lib/python3.8/site-packages/joblib/_parallel_backends.py\", line 572, in __init__\n",
      "    self.results = batch()\n",
      "  File \"/Users/chrismarch/OtherRepos/ml/ml_env/lib/python3.8/site-packages/joblib/parallel.py\", line 262, in __call__\n",
      "    return [func(*args, **kwargs)\n",
      "  File \"/Users/chrismarch/OtherRepos/ml/ml_env/lib/python3.8/site-packages/joblib/parallel.py\", line 262, in <listcomp>\n",
      "    return [func(*args, **kwargs)\n",
      "  File \"/Users/chrismarch/OtherRepos/ml/ml_env/lib/python3.8/site-packages/sklearn/utils/fixes.py\", line 216, in __call__\n",
      "    return self.function(*args, **kwargs)\n",
      "  File \"/Users/chrismarch/OtherRepos/ml/ml_env/lib/python3.8/site-packages/sklearn/pipeline.py\", line 876, in _transform_one\n",
      "    res = transformer.transform(X)\n",
      "  File \"/Users/chrismarch/OtherRepos/ml/ml_env/lib/python3.8/site-packages/sklearn/preprocessing/_encoders.py\", line 509, in transform\n",
      "    X_int, X_mask = self._transform(\n",
      "  File \"/Users/chrismarch/OtherRepos/ml/ml_env/lib/python3.8/site-packages/sklearn/preprocessing/_encoders.py\", line 142, in _transform\n",
      "    raise ValueError(msg)\n",
      "ValueError: Found unknown categories ['ISLAND'] in column 0 during transform\n",
      "\n",
      "  warnings.warn(\n"
     ]
    },
    {
     "name": "stdout",
     "output_type": "stream",
     "text": [
      "[CV] END .......................dropper__min_importance=0.01; total time=   6.5s\n",
      "[CV] END .......................dropper__min_importance=0.01; total time=   6.6s\n",
      "[CV] END .......................dropper__min_importance=0.01; total time=   6.7s\n"
     ]
    },
    {
     "name": "stderr",
     "output_type": "stream",
     "text": [
      "/Users/chrismarch/OtherRepos/ml/ml_env/lib/python3.8/site-packages/sklearn/model_selection/_validation.py:770: UserWarning: Scoring failed. The score on this train-test partition for these parameters will be set to nan. Details: \n",
      "Traceback (most recent call last):\n",
      "  File \"/Users/chrismarch/OtherRepos/ml/ml_env/lib/python3.8/site-packages/sklearn/model_selection/_validation.py\", line 761, in _score\n",
      "    scores = scorer(estimator, X_test, y_test)\n",
      "  File \"/Users/chrismarch/OtherRepos/ml/ml_env/lib/python3.8/site-packages/sklearn/metrics/_scorer.py\", line 216, in __call__\n",
      "    return self._score(\n",
      "  File \"/Users/chrismarch/OtherRepos/ml/ml_env/lib/python3.8/site-packages/sklearn/metrics/_scorer.py\", line 258, in _score\n",
      "    y_pred = method_caller(estimator, \"predict\", X)\n",
      "  File \"/Users/chrismarch/OtherRepos/ml/ml_env/lib/python3.8/site-packages/sklearn/metrics/_scorer.py\", line 68, in _cached_call\n",
      "    return getattr(estimator, method)(*args, **kwargs)\n",
      "  File \"/Users/chrismarch/OtherRepos/ml/ml_env/lib/python3.8/site-packages/sklearn/utils/metaestimators.py\", line 113, in <lambda>\n",
      "    out = lambda *args, **kwargs: self.fn(obj, *args, **kwargs)  # noqa\n",
      "  File \"/Users/chrismarch/OtherRepos/ml/ml_env/lib/python3.8/site-packages/sklearn/pipeline.py\", line 469, in predict\n",
      "    Xt = transform.transform(Xt)\n",
      "  File \"/Users/chrismarch/OtherRepos/ml/ml_env/lib/python3.8/site-packages/sklearn/compose/_column_transformer.py\", line 748, in transform\n",
      "    Xs = self._fit_transform(\n",
      "  File \"/Users/chrismarch/OtherRepos/ml/ml_env/lib/python3.8/site-packages/sklearn/compose/_column_transformer.py\", line 606, in _fit_transform\n",
      "    return Parallel(n_jobs=self.n_jobs)(\n",
      "  File \"/Users/chrismarch/OtherRepos/ml/ml_env/lib/python3.8/site-packages/joblib/parallel.py\", line 1046, in __call__\n",
      "    while self.dispatch_one_batch(iterator):\n",
      "  File \"/Users/chrismarch/OtherRepos/ml/ml_env/lib/python3.8/site-packages/joblib/parallel.py\", line 861, in dispatch_one_batch\n",
      "    self._dispatch(tasks)\n",
      "  File \"/Users/chrismarch/OtherRepos/ml/ml_env/lib/python3.8/site-packages/joblib/parallel.py\", line 779, in _dispatch\n",
      "    job = self._backend.apply_async(batch, callback=cb)\n",
      "  File \"/Users/chrismarch/OtherRepos/ml/ml_env/lib/python3.8/site-packages/joblib/_parallel_backends.py\", line 208, in apply_async\n",
      "    result = ImmediateResult(func)\n",
      "  File \"/Users/chrismarch/OtherRepos/ml/ml_env/lib/python3.8/site-packages/joblib/_parallel_backends.py\", line 572, in __init__\n",
      "    self.results = batch()\n",
      "  File \"/Users/chrismarch/OtherRepos/ml/ml_env/lib/python3.8/site-packages/joblib/parallel.py\", line 262, in __call__\n",
      "    return [func(*args, **kwargs)\n",
      "  File \"/Users/chrismarch/OtherRepos/ml/ml_env/lib/python3.8/site-packages/joblib/parallel.py\", line 262, in <listcomp>\n",
      "    return [func(*args, **kwargs)\n",
      "  File \"/Users/chrismarch/OtherRepos/ml/ml_env/lib/python3.8/site-packages/sklearn/utils/fixes.py\", line 216, in __call__\n",
      "    return self.function(*args, **kwargs)\n",
      "  File \"/Users/chrismarch/OtherRepos/ml/ml_env/lib/python3.8/site-packages/sklearn/pipeline.py\", line 876, in _transform_one\n",
      "    res = transformer.transform(X)\n",
      "  File \"/Users/chrismarch/OtherRepos/ml/ml_env/lib/python3.8/site-packages/sklearn/preprocessing/_encoders.py\", line 509, in transform\n",
      "    X_int, X_mask = self._transform(\n",
      "  File \"/Users/chrismarch/OtherRepos/ml/ml_env/lib/python3.8/site-packages/sklearn/preprocessing/_encoders.py\", line 142, in _transform\n",
      "    raise ValueError(msg)\n",
      "ValueError: Found unknown categories ['ISLAND'] in column 0 during transform\n",
      "\n",
      "  warnings.warn(\n"
     ]
    },
    {
     "name": "stdout",
     "output_type": "stream",
     "text": [
      "[CV] END .......................dropper__min_importance=0.02; total time=   4.4s\n",
      "[CV] END .......................dropper__min_importance=0.02; total time=   5.6s\n",
      "[CV] END .......................dropper__min_importance=0.02; total time=   4.9s\n"
     ]
    },
    {
     "name": "stderr",
     "output_type": "stream",
     "text": [
      "/Users/chrismarch/OtherRepos/ml/ml_env/lib/python3.8/site-packages/sklearn/model_selection/_search.py:969: UserWarning: One or more of the test scores are non-finite: [nan nan nan]\n",
      "  warnings.warn(\n"
     ]
    }
   ],
   "source": [
    "from sklearn.model_selection import GridSearchCV\n",
    "\n",
    "param_grid = [\n",
    "    {'n_estimators': [3, 10, 30], 'max_features': [2, 4, 6, 8]},\n",
    "    {'bootstrap': [False], 'n_estimators': [3, 10], 'max_features': [2, 3, 4]},\n",
    "  ]\n",
    "\n",
    "forest_reg = RandomForestRegressor()\n",
    "\n",
    "grid_search = GridSearchCV(forest_reg, param_grid, cv=5,\n",
    "                           scoring='neg_mean_squared_error',\n",
    "                           return_train_score=True, verbose=2)\n",
    "col_trans.named_transformers_[\"cat\"].handle_unknown = 'ignore'\n",
    "\n",
    "main_pipeline = Pipeline([\n",
    "    ('col', col_trans),\n",
    "    ('dropper', AttributesDropper()),\n",
    "    ('grid', forest_reg)\n",
    "])\n",
    "\n",
    "\n",
    "param_drpr = [\n",
    "    {'dropper__min_importance': [.0001,.01, .02]}\n",
    "     #{'col__verbose': [1,2]}\n",
    "  ]\n",
    "\n",
    "\n",
    "full_pipeline = GridSearchCV(main_pipeline, param_drpr, cv=3,\n",
    "                           scoring='neg_mean_squared_error',\n",
    "                           verbose=2)#, error_score='raise')\n",
    "#pipe_out = main_pipeline.fit(housing, housing_labels)\n",
    "pipe_out = full_pipeline.fit(housing, housing_labels)\n",
    "#pipe_out\n",
    "#housing_prepared = full_pipeline.fit_transform(housing)\n",
    "\n",
    "#housing_prepared"
   ]
  },
  {
   "cell_type": "code",
   "execution_count": 298,
   "id": "91c929e5",
   "metadata": {},
   "outputs": [
    {
     "data": {
      "text/plain": [
       "48410.85828682835"
      ]
     },
     "execution_count": 298,
     "metadata": {},
     "output_type": "execute_result"
    }
   ],
   "source": [
    "#final_model = pipe_out.best_estimator_\n",
    "\n",
    "X_test = strat_test_set.drop(\"median_house_value\", axis=1)\n",
    "y_test = strat_test_set[\"median_house_value\"].copy()\n",
    "\n",
    "#X_test_prepared = full_pipeline.transform(X_test)\n",
    "\n",
    "#final_predictions = final_model.predict(X_test_prepared)\n",
    "\n",
    "final_predictions = pipe_out.predict(X_test)\n",
    "\n",
    "final_mse = mean_squared_error(y_test, final_predictions)\n",
    "final_rmse = np.sqrt(final_mse)   # => evaluates to 47,730.2\n",
    "final_rmse\n"
   ]
  },
  {
   "cell_type": "markdown",
   "id": "3f7405e7",
   "metadata": {},
   "source": [
    "### 1.\n",
    "_Try a Support Vector Machine regressor (sklearn.svm.SVR) with various hyperparameters, such as kernel=\"linear\" (with various values for the C hyperparameter) or kernel=\"rbf\" (with various values for the C and gamma hyperparameters). Don’t worry about what these hyperparameters mean for now. How does the best SVR predictor perform?_"
   ]
  },
  {
   "cell_type": "code",
   "execution_count": 207,
   "id": "f4c141b7",
   "metadata": {},
   "outputs": [
    {
     "name": "stdout",
     "output_type": "stream",
     "text": [
      "Scores: [110944.44375543 113447.25887258 107493.96870224 114116.08150269\n",
      " 108232.88967584 116446.43416569 113762.33996303 112157.45620497\n",
      " 113544.34715549 112375.60753671]\n",
      "Mean: 112252.08275346753\n",
      "Standard deviation: 2587.9343077143317\n"
     ]
    }
   ],
   "source": [
    "from sklearn.svm import SVR\n",
    "\n",
    "''' \n",
    "linear C=1\n",
    "Mean: 111814.1069260169\n",
    "Standard deviation: 2600.8402690892553\n",
    "\n",
    "linear C=.1\n",
    "Mean: 118146.91107625126\n",
    "Standard deviation: 2599.0466057977374\n",
    "\n",
    "linear C=10\n",
    "Mean: 83057.56340284644\n",
    "Standard deviation: 2788.761505866687\n",
    "\n",
    "rbf C=10 gamma=0.2\n",
    "Mean: 116574.18557994801\n",
    "Standard deviation: 2635.2238286729885\n",
    "\n",
    "rbf C=1 gamma=.2\n",
    "Mean: 118668.47850878662\n",
    "Standard deviation: 2610.862036182229\n",
    "'''\n",
    "\n",
    "sv_reg = SVR(kernel=\"linear\", C=1)\n",
    "sv_reg.fit(housing_prepared, housing_labels)\n",
    "\n",
    "sv_scores = cross_val_score(sv_reg, housing_prepared, housing_labels,\n",
    "                              scoring=\"neg_mean_squared_error\", cv=10)\n",
    "\n",
    "sv_rmse_scores = np.sqrt(-sv_scores)\n",
    "display_scores(sv_rmse_scores)"
   ]
  },
  {
   "cell_type": "code",
   "execution_count": 208,
   "id": "97aaa887",
   "metadata": {},
   "outputs": [
    {
     "data": {
      "text/plain": [
       "['housing_test.pkl']"
      ]
     },
     "execution_count": 208,
     "metadata": {},
     "output_type": "execute_result"
    }
   ],
   "source": [
    "import joblib\n",
    "\n",
    "joblib.dump(housing, \"housing_test.pkl\")"
   ]
  },
  {
   "cell_type": "markdown",
   "id": "8066530f",
   "metadata": {},
   "source": [
    "### 2. \n",
    "_Try replacing GridSearchCV with RandomizedSearchCV._"
   ]
  },
  {
   "cell_type": "code",
   "execution_count": 287,
   "id": "f1aaf05a",
   "metadata": {},
   "outputs": [
    {
     "name": "stdout",
     "output_type": "stream",
     "text": [
      "[3, 4, 5, 6, 7, 8, 9, 10, 11, 12, 13, 14, 15, 16, 17, 18, 19, 20, 21, 22, 23, 24, 25, 26, 27, 28, 29, 30]\n",
      "[2, 3, 4, 5, 6, 7, 8]\n"
     ]
    },
    {
     "data": {
      "text/plain": [
       "RandomizedSearchCV(cv=5, estimator=RandomForestRegressor(), n_iter=18,\n",
       "                   param_distributions={'max_features': [2, 3, 4, 5, 6, 7, 8],\n",
       "                                        'n_estimators': [3, 4, 5, 6, 7, 8, 9,\n",
       "                                                         10, 11, 12, 13, 14, 15,\n",
       "                                                         16, 17, 18, 19, 20, 21,\n",
       "                                                         22, 23, 24, 25, 26, 27,\n",
       "                                                         28, 29, 30]},\n",
       "                   random_state=42, return_train_score=True,\n",
       "                   scoring='neg_mean_squared_error')"
      ]
     },
     "execution_count": 287,
     "metadata": {},
     "output_type": "execute_result"
    }
   ],
   "source": [
    "from sklearn.model_selection import RandomizedSearchCV\n",
    "from scipy.stats import uniform\n",
    "\n",
    "param_grid = [\n",
    "    {'n_estimators': [3, 10, 30], 'max_features': [2, 4, 6, 8]},\n",
    "    {'bootstrap': [False], 'n_estimators': [3, 10], 'max_features': [2, 3, 4]},\n",
    "  ]\n",
    "\n",
    "n_est = [*range(3, 31, 1)]\n",
    "print(n_est)\n",
    "max_feat = [*range(2, 9, 1)]\n",
    "print(max_feat)\n",
    "distributions = dict(n_estimators=n_est,\n",
    "                      max_features=max_feat)\n",
    "\n",
    "forest_reg = RandomForestRegressor()\n",
    "\n",
    "rnd_search = RandomizedSearchCV(forest_reg, distributions, cv=5, random_state=42, n_iter=18,\n",
    "                           scoring='neg_mean_squared_error',\n",
    "                           return_train_score=True)\n",
    "\n",
    "rnd_search.fit(housing_prepared, housing_labels)\n"
   ]
  }
 ],
 "metadata": {
  "kernelspec": {
   "display_name": "Python 3 (ipykernel)",
   "language": "python",
   "name": "python3"
  },
  "language_info": {
   "codemirror_mode": {
    "name": "ipython",
    "version": 3
   },
   "file_extension": ".py",
   "mimetype": "text/x-python",
   "name": "python",
   "nbconvert_exporter": "python",
   "pygments_lexer": "ipython3",
   "version": "3.8.9"
  }
 },
 "nbformat": 4,
 "nbformat_minor": 5
}

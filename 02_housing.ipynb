{
 "cells": [
  {
   "cell_type": "markdown",
   "id": "b91a9059",
   "metadata": {},
   "source": [
    "# Chapter 2 Exercises"
   ]
  },
  {
   "cell_type": "markdown",
   "id": "86c5cc1a",
   "metadata": {},
   "source": [
    "## Exercises\n",
    "(code from the book ommitted, for all code see https://github.com/chrismarch/handson-ml2/tree/scratch/my_exercises)"
   ]
  },
  {
   "cell_type": "markdown",
   "id": "3f7405e7",
   "metadata": {},
   "source": [
    "### 1.\n",
    "_Try a Support Vector Machine regressor (sklearn.svm.SVR) with various hyperparameters, such as kernel=\"linear\" (with various values for the C hyperparameter) or kernel=\"rbf\" (with various values for the C and gamma hyperparameters). Don’t worry about what these hyperparameters mean for now. How does the best SVR predictor perform?_"
   ]
  },
  {
   "cell_type": "code",
   "execution_count": 207,
   "id": "f4c141b7",
   "metadata": {},
   "outputs": [
    {
     "name": "stdout",
     "output_type": "stream",
     "text": [
      "Scores: [110944.44375543 113447.25887258 107493.96870224 114116.08150269\n",
      " 108232.88967584 116446.43416569 113762.33996303 112157.45620497\n",
      " 113544.34715549 112375.60753671]\n",
      "Mean: 112252.08275346753\n",
      "Standard deviation: 2587.9343077143317\n"
     ]
    }
   ],
   "source": [
    "from sklearn.svm import SVR\n",
    "\n",
    "''' \n",
    "linear C=1\n",
    "Mean: 111814.1069260169\n",
    "Standard deviation: 2600.8402690892553\n",
    "\n",
    "linear C=.1\n",
    "Mean: 118146.91107625126\n",
    "Standard deviation: 2599.0466057977374\n",
    "\n",
    "linear C=10\n",
    "Mean: 83057.56340284644\n",
    "Standard deviation: 2788.761505866687\n",
    "\n",
    "rbf C=10 gamma=0.2\n",
    "Mean: 116574.18557994801\n",
    "Standard deviation: 2635.2238286729885\n",
    "\n",
    "rbf C=1 gamma=.2\n",
    "Mean: 118668.47850878662\n",
    "Standard deviation: 2610.862036182229\n",
    "'''\n",
    "\n",
    "sv_reg = SVR(kernel=\"linear\", C=1)\n",
    "sv_reg.fit(housing_prepared, housing_labels)\n",
    "\n",
    "sv_scores = cross_val_score(sv_reg, housing_prepared, housing_labels,\n",
    "                              scoring=\"neg_mean_squared_error\", cv=10)\n",
    "\n",
    "sv_rmse_scores = np.sqrt(-sv_scores)\n",
    "display_scores(sv_rmse_scores)"
   ]
  },
  {
   "cell_type": "code",
   "execution_count": 208,
   "id": "97aaa887",
   "metadata": {},
   "outputs": [
    {
     "data": {
      "text/plain": [
       "['housing_test.pkl']"
      ]
     },
     "execution_count": 208,
     "metadata": {},
     "output_type": "execute_result"
    }
   ],
   "source": [
    "import joblib\n",
    "\n",
    "joblib.dump(housing, \"housing_test.pkl\")"
   ]
  },
  {
   "cell_type": "markdown",
   "id": "3fc491c3",
   "metadata": {},
   "source": [
    "### 5. (out of order)\n",
    "_Automatically explore some preparation options using GridSearchCV._"
   ]
  },
  {
   "cell_type": "code",
   "execution_count": 228,
   "id": "4e61a34f",
   "metadata": {},
   "outputs": [
    {
     "data": {
      "text/plain": [
       "GridSearchCV(cv=5, estimator=RandomForestRegressor(),\n",
       "             param_grid=[{'max_features': [2, 4, 6, 8],\n",
       "                          'n_estimators': [3, 10, 30]},\n",
       "                         {'bootstrap': [False], 'max_features': [2, 3, 4],\n",
       "                          'n_estimators': [3, 10]}],\n",
       "             return_train_score=True, scoring='neg_mean_squared_error')"
      ]
     },
     "execution_count": 228,
     "metadata": {},
     "output_type": "execute_result"
    }
   ],
   "source": [
    "from sklearn.model_selection import GridSearchCV\n",
    "\n",
    "param_grid = [\n",
    "    {'n_estimators': [3, 10, 30], 'max_features': [2, 4, 6, 8]},\n",
    "    {'bootstrap': [False], 'n_estimators': [3, 10], 'max_features': [2, 3, 4]},\n",
    "  ]\n",
    "\n",
    "forest_reg = RandomForestRegressor()\n",
    "\n",
    "grid_search = GridSearchCV(forest_reg, param_grid, cv=5,\n",
    "                           scoring='neg_mean_squared_error',\n",
    "                           return_train_score=True)\n",
    "\n",
    "grid_search.fit(housing_prepared, housing_labels)"
   ]
  },
  {
   "cell_type": "markdown",
   "id": "8066530f",
   "metadata": {},
   "source": [
    "### 2. \n",
    "_Try replacing GridSearchCV with RandomizedSearchCV._"
   ]
  },
  {
   "cell_type": "code",
   "execution_count": 287,
   "id": "f1aaf05a",
   "metadata": {},
   "outputs": [
    {
     "name": "stdout",
     "output_type": "stream",
     "text": [
      "[3, 4, 5, 6, 7, 8, 9, 10, 11, 12, 13, 14, 15, 16, 17, 18, 19, 20, 21, 22, 23, 24, 25, 26, 27, 28, 29, 30]\n",
      "[2, 3, 4, 5, 6, 7, 8]\n"
     ]
    },
    {
     "data": {
      "text/plain": [
       "RandomizedSearchCV(cv=5, estimator=RandomForestRegressor(), n_iter=18,\n",
       "                   param_distributions={'max_features': [2, 3, 4, 5, 6, 7, 8],\n",
       "                                        'n_estimators': [3, 4, 5, 6, 7, 8, 9,\n",
       "                                                         10, 11, 12, 13, 14, 15,\n",
       "                                                         16, 17, 18, 19, 20, 21,\n",
       "                                                         22, 23, 24, 25, 26, 27,\n",
       "                                                         28, 29, 30]},\n",
       "                   random_state=42, return_train_score=True,\n",
       "                   scoring='neg_mean_squared_error')"
      ]
     },
     "execution_count": 287,
     "metadata": {},
     "output_type": "execute_result"
    }
   ],
   "source": [
    "from sklearn.model_selection import RandomizedSearchCV\n",
    "from scipy.stats import uniform\n",
    "\n",
    "param_grid = [\n",
    "    {'n_estimators': [3, 10, 30], 'max_features': [2, 4, 6, 8]},\n",
    "    {'bootstrap': [False], 'n_estimators': [3, 10], 'max_features': [2, 3, 4]},\n",
    "  ]\n",
    "\n",
    "n_est = [*range(3, 31, 1)]\n",
    "print(n_est)\n",
    "max_feat = [*range(2, 9, 1)]\n",
    "print(max_feat)\n",
    "distributions = dict(n_estimators=n_est,\n",
    "                      max_features=max_feat)\n",
    "\n",
    "forest_reg = RandomForestRegressor()\n",
    "\n",
    "grid_search = RandomizedSearchCV(forest_reg, distributions, cv=5, random_state=42, n_iter=18,\n",
    "                           scoring='neg_mean_squared_error',\n",
    "                           return_train_score=True)\n",
    "\n",
    "grid_search.fit(housing_prepared, housing_labels)\n"
   ]
  },
  {
   "cell_type": "markdown",
   "id": "f7682144",
   "metadata": {},
   "source": [
    "### 3.\n",
    "_Try adding a transformer in the preparation pipeline to select only the most important attributes._"
   ]
  },
  {
   "cell_type": "code",
   "execution_count": 229,
   "id": "b93da1f6",
   "metadata": {},
   "outputs": [
    {
     "data": {
      "text/plain": [
       "[(0.08251281948693298, 'longitude'),\n",
       " (0.07276896667079569, 'latitude'),\n",
       " (0.0488151659923637, 'housing_median_age'),\n",
       " (0.3499295013881789, 'total_rooms'),\n",
       " (0.05681923619581421, 'total_bedrooms'),\n",
       " (0.12382776136051535, 'population'),\n",
       " (0.0913804106897131, 'households'),\n",
       " (0.17394613821568616, 'median_income')]"
      ]
     },
     "execution_count": 229,
     "metadata": {},
     "output_type": "execute_result"
    }
   ],
   "source": [
    "feature_importances = grid_search.best_estimator_.feature_importances_\n",
    "feature_importances\n",
    "\n",
    "extra_attribs = [\"rooms_per_hhold\", \"pop_per_hhold\", \"bedrooms_per_room\"]\n",
    "cat_encoder = col_pipeline.named_transformers_[\"cat\"]\n",
    "cat_one_hot_attribs = list(cat_encoder.categories_[0])\n",
    "attributes = num_attribs + extra_attribs + cat_one_hot_attribs\n",
    "list(zip(feature_importances, attributes))\n",
    "#sorted(zip(feature_importances, attributes), reverse=True)"
   ]
  },
  {
   "cell_type": "markdown",
   "id": "4620b0a9",
   "metadata": {},
   "source": [
    "### 4.\n",
    "_Try creating a single pipeline that does the full data preparation plus the final prediction._"
   ]
  },
  {
   "cell_type": "code",
   "execution_count": 230,
   "id": "45fba471",
   "metadata": {},
   "outputs": [
    {
     "data": {
      "text/plain": [
       "47336.121936843396"
      ]
     },
     "execution_count": 230,
     "metadata": {},
     "output_type": "execute_result"
    }
   ],
   "source": [
    "final_model = grid_search.best_estimator_\n",
    "\n",
    "X_test = strat_test_set.drop(\"median_house_value\", axis=1)\n",
    "y_test = strat_test_set[\"median_house_value\"].copy()\n",
    "\n",
    "X_test_prepared = full_pipeline.transform(X_test)\n",
    "\n",
    "final_predictions = final_model.predict(X_test_prepared)\n",
    "\n",
    "final_mse = mean_squared_error(y_test, final_predictions)\n",
    "final_rmse = np.sqrt(final_mse)   # => evaluates to 47,730.2\n",
    "final_rmse"
   ]
  },
  {
   "cell_type": "code",
   "execution_count": 214,
   "id": "66cb2562",
   "metadata": {},
   "outputs": [
    {
     "data": {
      "text/plain": [
       "array([45265.35214861, 49282.97892411])"
      ]
     },
     "execution_count": 214,
     "metadata": {},
     "output_type": "execute_result"
    }
   ],
   "source": [
    "from scipy import stats\n",
    "confidence = 0.95\n",
    "squared_errors = (final_predictions - y_test) ** 2\n",
    "np.sqrt(stats.t.interval(confidence, len(squared_errors) - 1,\n",
    "                          loc=squared_errors.mean(),\n",
    "                          scale=stats.sem(squared_errors)))\n"
   ]
  },
  {
   "cell_type": "code",
   "execution_count": null,
   "id": "d8e4123c",
   "metadata": {},
   "outputs": [],
   "source": []
  }
 ],
 "metadata": {
  "kernelspec": {
   "display_name": "Python 3 (ipykernel)",
   "language": "python",
   "name": "python3"
  },
  "language_info": {
   "codemirror_mode": {
    "name": "ipython",
    "version": 3
   },
   "file_extension": ".py",
   "mimetype": "text/x-python",
   "name": "python",
   "nbconvert_exporter": "python",
   "pygments_lexer": "ipython3",
   "version": "3.8.9"
  }
 },
 "nbformat": 4,
 "nbformat_minor": 5
}

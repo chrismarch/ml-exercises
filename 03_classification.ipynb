{
 "cells": [
  {
   "cell_type": "markdown",
   "id": "ef0fd5f3",
   "metadata": {},
   "source": [
    "# Chapter 3 Exercises"
   ]
  },
  {
   "cell_type": "markdown",
   "id": "092fa46b",
   "metadata": {},
   "source": [
    "## Exercises\n",
    "(code from the book ommitted, for all code see https://github.com/chrismarch/handson-ml2/blob/scratch/my_exercises/03_classification.ipynb)"
   ]
  },
  {
   "cell_type": "markdown",
   "id": "8a76ebd3",
   "metadata": {},
   "source": [
    "### 1.\n",
    "_Try to build a classifier for the MNIST dataset that achieves over 97% accuracy on the test set. Hint: the KNeighborsClassifier works quite well for this task; you just need to find good hyperparameter values (try a grid search on the weights and n_neighbors hyperparameters)._"
   ]
  },
  {
   "cell_type": "code",
   "execution_count": 69,
   "id": "d577db4b",
   "metadata": {},
   "outputs": [
    {
     "data": {
      "text/plain": [
       "array([5], dtype=uint8)"
      ]
     },
     "execution_count": 69,
     "metadata": {},
     "output_type": "execute_result"
    }
   ],
   "source": [
    "# Exercise 1\n",
    "knn_clf = KNeighborsClassifier()\n",
    "knn_clf.fit(X_train, y_train)\n",
    "knn_clf.predict([some_digit])"
   ]
  },
  {
   "cell_type": "code",
   "execution_count": 72,
   "id": "20586ddf",
   "metadata": {},
   "outputs": [
    {
     "name": "stdout",
     "output_type": "stream",
     "text": [
      "Fitting 3 folds for each of 8 candidates, totalling 24 fits\n",
      "[CV] END .....................n_neighbors=2, weights=uniform; total time=  18.4s\n",
      "[CV] END .....................n_neighbors=2, weights=uniform; total time=  18.5s\n",
      "[CV] END .....................n_neighbors=2, weights=uniform; total time=  18.6s\n",
      "[CV] END ....................n_neighbors=2, weights=distance; total time=  18.4s\n",
      "[CV] END ....................n_neighbors=2, weights=distance; total time=  18.7s\n",
      "[CV] END ....................n_neighbors=2, weights=distance; total time=  19.2s\n",
      "[CV] END .....................n_neighbors=4, weights=uniform; total time=  22.9s\n",
      "[CV] END .....................n_neighbors=4, weights=uniform; total time=  22.8s\n",
      "[CV] END .....................n_neighbors=4, weights=uniform; total time=  23.2s\n",
      "[CV] END ....................n_neighbors=4, weights=distance; total time=  22.8s\n",
      "[CV] END ....................n_neighbors=4, weights=distance; total time=  24.2s\n",
      "[CV] END ....................n_neighbors=4, weights=distance; total time=  24.6s\n",
      "[CV] END .....................n_neighbors=6, weights=uniform; total time=  23.6s\n",
      "[CV] END .....................n_neighbors=6, weights=uniform; total time=  23.1s\n",
      "[CV] END .....................n_neighbors=6, weights=uniform; total time=  23.9s\n",
      "[CV] END ....................n_neighbors=6, weights=distance; total time=  24.0s\n",
      "[CV] END ....................n_neighbors=6, weights=distance; total time=  24.0s\n",
      "[CV] END ....................n_neighbors=6, weights=distance; total time=  23.9s\n",
      "[CV] END .....................n_neighbors=8, weights=uniform; total time=  23.0s\n",
      "[CV] END .....................n_neighbors=8, weights=uniform; total time=  21.8s\n",
      "[CV] END .....................n_neighbors=8, weights=uniform; total time=  22.0s\n",
      "[CV] END ....................n_neighbors=8, weights=distance; total time=  22.7s\n",
      "[CV] END ....................n_neighbors=8, weights=distance; total time=  23.3s\n",
      "[CV] END ....................n_neighbors=8, weights=distance; total time=  23.8s\n"
     ]
    },
    {
     "ename": "TypeError",
     "evalue": "predict() takes 2 positional arguments but 3 were given",
     "output_type": "error",
     "traceback": [
      "\u001b[0;31m---------------------------------------------------------------------------\u001b[0m",
      "\u001b[0;31mTypeError\u001b[0m                                 Traceback (most recent call last)",
      "Input \u001b[0;32mIn [72]\u001b[0m, in \u001b[0;36m<cell line: 14>\u001b[0;34m()\u001b[0m\n\u001b[1;32m     12\u001b[0m grid_search\u001b[38;5;241m.\u001b[39mfit(X_train, y_train)\n\u001b[1;32m     13\u001b[0m \u001b[38;5;66;03m#y_train_knn_pred = cross_val_predict(knn_clf, X_train, y_train, cv=3)\u001b[39;00m\n\u001b[0;32m---> 14\u001b[0m y_train_knn_pred \u001b[38;5;241m=\u001b[39m \u001b[43mgrid_search\u001b[49m\u001b[38;5;241;43m.\u001b[39;49m\u001b[43mpredict\u001b[49m\u001b[43m(\u001b[49m\u001b[43mX_train\u001b[49m\u001b[43m,\u001b[49m\u001b[43m \u001b[49m\u001b[43my_train\u001b[49m\u001b[43m)\u001b[49m\n\u001b[1;32m     15\u001b[0m f1_score(y_train, y_train_knn_pred, average\u001b[38;5;241m=\u001b[39m\u001b[38;5;124m\"\u001b[39m\u001b[38;5;124mmacro\u001b[39m\u001b[38;5;124m\"\u001b[39m)\n",
      "File \u001b[0;32m~/OtherRepos/ml/ml_env/lib/python3.8/site-packages/sklearn/utils/metaestimators.py:113\u001b[0m, in \u001b[0;36m_AvailableIfDescriptor.__get__.<locals>.<lambda>\u001b[0;34m(*args, **kwargs)\u001b[0m\n\u001b[1;32m    110\u001b[0m         \u001b[38;5;28;01mraise\u001b[39;00m attr_err\n\u001b[1;32m    112\u001b[0m     \u001b[38;5;66;03m# lambda, but not partial, allows help() to work with update_wrapper\u001b[39;00m\n\u001b[0;32m--> 113\u001b[0m     out \u001b[38;5;241m=\u001b[39m \u001b[38;5;28;01mlambda\u001b[39;00m \u001b[38;5;241m*\u001b[39margs, \u001b[38;5;241m*\u001b[39m\u001b[38;5;241m*\u001b[39mkwargs: \u001b[38;5;28;43mself\u001b[39;49m\u001b[38;5;241;43m.\u001b[39;49m\u001b[43mfn\u001b[49m\u001b[43m(\u001b[49m\u001b[43mobj\u001b[49m\u001b[43m,\u001b[49m\u001b[43m \u001b[49m\u001b[38;5;241;43m*\u001b[39;49m\u001b[43margs\u001b[49m\u001b[43m,\u001b[49m\u001b[43m \u001b[49m\u001b[38;5;241;43m*\u001b[39;49m\u001b[38;5;241;43m*\u001b[39;49m\u001b[43mkwargs\u001b[49m\u001b[43m)\u001b[49m  \u001b[38;5;66;03m# noqa\u001b[39;00m\n\u001b[1;32m    114\u001b[0m \u001b[38;5;28;01melse\u001b[39;00m:\n\u001b[1;32m    116\u001b[0m     \u001b[38;5;28;01mdef\u001b[39;00m \u001b[38;5;21mfn\u001b[39m(\u001b[38;5;241m*\u001b[39margs, \u001b[38;5;241m*\u001b[39m\u001b[38;5;241m*\u001b[39mkwargs):\n",
      "\u001b[0;31mTypeError\u001b[0m: predict() takes 2 positional arguments but 3 were given"
     ]
    }
   ],
   "source": [
    "from sklearn.model_selection import GridSearchCV\n",
    "\n",
    "param_grid = [\n",
    "    {'weights': [\"uniform\", \"distance\"], 'n_neighbors': [2, 4, 6, 8]},\n",
    "  ]\n",
    "\n",
    "\n",
    "grid_search = GridSearchCV(knn_clf, param_grid, cv=3,\n",
    "                           scoring='neg_mean_squared_error',\n",
    "                           #return_train_score=True, \n",
    "                           verbose=2)\n",
    "grid_search.fit(X_train, y_train)\n",
    "#y_train_knn_pred = cross_val_predict(knn_clf, X_train, y_train, cv=3)"
   ]
  },
  {
   "cell_type": "code",
   "execution_count": 98,
   "id": "8af24b97",
   "metadata": {},
   "outputs": [
    {
     "data": {
      "text/plain": [
       "{'n_neighbors': 4, 'weights': 'distance'}"
      ]
     },
     "execution_count": 98,
     "metadata": {},
     "output_type": "execute_result"
    }
   ],
   "source": [
    "sorted(grid_search.cv_results_.keys())\n",
    "grid_search.best_params_"
   ]
  },
  {
   "cell_type": "code",
   "execution_count": 75,
   "id": "8e7c7c37",
   "metadata": {},
   "outputs": [
    {
     "data": {
      "text/plain": [
       "0.971224084176584"
      ]
     },
     "execution_count": 75,
     "metadata": {},
     "output_type": "execute_result"
    }
   ],
   "source": [
    "y_test_knn_pred = grid_search.predict(X_test)\n",
    "f1_score(y_test, y_test_knn_pred, average=\"macro\")"
   ]
  },
  {
   "cell_type": "markdown",
   "id": "e24672d7",
   "metadata": {},
   "source": [
    "### 2.\n",
    "_Write a function that can shift an MNIST image in any direction (left, right, up, or down) by one pixel.5 Then, for each image in the training set, create four shifted copies (one per direction) and add them to the training set. Finally, train your best model on this expanded training set and measure its accuracy on the test set. You should observe that your model performs even better now! This technique of artificially growing the training set is called data augmentation or training set expansion._"
   ]
  },
  {
   "cell_type": "code",
   "execution_count": 81,
   "id": "828e7071",
   "metadata": {},
   "outputs": [
    {
     "data": {
      "image/png": "[encoded data removed]",
      "text/plain": [
       "<Figure size 432x288 with 1 Axes>"
      ]
     },
     "metadata": {
      "needs_background": "light"
     },
     "output_type": "display_data"
    }
   ],
   "source": [
    "# Execise 2\n",
    "def shift_digit(data, shift, axis):\n",
    "    image = data.reshape(28, 28)\n",
    "    image = np.roll(image, shift, axis)\n",
    "    return image.flatten()\n",
    "\n",
    "plot_digit(X[0])"
   ]
  },
  {
   "cell_type": "code",
   "execution_count": 89,
   "id": "30a8b86e",
   "metadata": {},
   "outputs": [
    {
     "data": {
      "image/png": "[encoded data removed]",
      "text/plain": [
       "<Figure size 432x288 with 1 Axes>"
      ]
     },
     "metadata": {
      "needs_background": "light"
     },
     "output_type": "display_data"
    }
   ],
   "source": [
    "plot_digit(shift_digit(X[0], 4, 1))"
   ]
  },
  {
   "cell_type": "code",
   "execution_count": 111,
   "id": "29e22e86",
   "metadata": {},
   "outputs": [
    {
     "name": "stdout",
     "output_type": "stream",
     "text": [
      "(300000, 784)\n",
      "(60000, 784)\n",
      "(300000,)\n",
      "(60000,)\n"
     ]
    },
    {
     "data": {
      "text/plain": [
       "array([5], dtype=uint8)"
      ]
     },
     "execution_count": 111,
     "metadata": {},
     "output_type": "execute_result"
    }
   ],
   "source": [
    "X_train_l = np.array([shift_digit(xi, -1, 0) for xi in X_train])\n",
    "X_train_r = np.array([shift_digit(xi, 1, 0) for xi in X_train])\n",
    "X_train_d = np.array([shift_digit(xi, -1, 1) for xi in X_train])\n",
    "X_train_u = np.array([shift_digit(xi, 1, 1) for xi in X_train])\n",
    "X_train_aug = np.concatenate((X_train, X_train_l, X_train_r, X_train_d, X_train_u))\n",
    "y_train_aug = np.concatenate((y_train, y_train, y_train, y_train, y_train))\n",
    "print(X_train_aug.shape)\n",
    "print(X_train.shape)\n",
    "print(y_train_aug.shape)\n",
    "print(y_train.shape)\n",
    "knn_clf_aug = KNeighborsClassifier(n_neighbors=4, weights=\"distance\")\n",
    "knn_clf_aug.fit(X_train_aug, y_train_aug)\n",
    "knn_clf_aug.predict([X_train_aug[0]])"
   ]
  },
  {
   "cell_type": "code",
   "execution_count": 112,
   "id": "83b60c30",
   "metadata": {},
   "outputs": [
    {
     "data": {
      "text/plain": [
       "0.9787896670568085"
      ]
     },
     "execution_count": 112,
     "metadata": {},
     "output_type": "execute_result"
    }
   ],
   "source": [
    "y_train_knn_pred = cross_val_predict(knn_clf_aug, X_train_aug, y_train_aug, cv=3)\n",
    "f1_score(y_train_aug, y_train_knn_pred, average=\"macro\")"
   ]
  },
  {
   "cell_type": "code",
   "execution_count": 113,
   "id": "9ef2d2a4",
   "metadata": {},
   "outputs": [
    {
     "data": {
      "text/plain": [
       "0.9762649231181537"
      ]
     },
     "execution_count": 113,
     "metadata": {},
     "output_type": "execute_result"
    }
   ],
   "source": [
    "y_test_knn_aug_pred = knn_clf_aug.predict(X_test)\n",
    "f1_score(y_test, y_test_knn_aug_pred, average=\"macro\")"
   ]
  },
  {
   "cell_type": "code",
   "execution_count": 109,
   "id": "7ac85431",
   "metadata": {},
   "outputs": [
    {
     "data": {
      "text/plain": [
       "(60000, 3920)"
      ]
     },
     "execution_count": 109,
     "metadata": {},
     "output_type": "execute_result"
    }
   ],
   "source": []
  },
  {
   "cell_type": "markdown",
   "id": "9f7ebd21",
   "metadata": {},
   "source": [
    "### 3.\n",
    "_Tackle the Titanic dataset. A great place to start is on Kaggle._"
   ]
  },
  {
   "cell_type": "markdown",
   "id": "9629e649",
   "metadata": {},
   "source": [
    "See https://github.com/chrismarch/ml-exercises/tree/main/titanic"
   ]
  },
  {
   "cell_type": "markdown",
   "id": "f3d53ae9",
   "metadata": {},
   "source": [
    "### 4.\n",
    "_Build a spam classifier (a more challenging exercise):_"
   ]
  },
  {
   "cell_type": "markdown",
   "id": "d3aefd16",
   "metadata": {},
   "source": [
    "see https://github.com/chrismarch/ml-exercises/tree/main/spam-classifier"
   ]
  },
  {
   "cell_type": "code",
   "execution_count": null,
   "id": "821ecac4",
   "metadata": {},
   "outputs": [],
   "source": []
  }
 ],
 "metadata": {
  "kernelspec": {
   "display_name": "Python 3 (ipykernel)",
   "language": "python",
   "name": "python3"
  },
  "language_info": {
   "codemirror_mode": {
    "name": "ipython",
    "version": 3
   },
   "file_extension": ".py",
   "mimetype": "text/x-python",
   "name": "python",
   "nbconvert_exporter": "python",
   "pygments_lexer": "ipython3",
   "version": "3.8.9"
  }
 },
 "nbformat": 4,
 "nbformat_minor": 5
}

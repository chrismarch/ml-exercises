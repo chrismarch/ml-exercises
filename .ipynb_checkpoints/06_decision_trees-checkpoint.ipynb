{
 "cells": [
  {
   "cell_type": "markdown",
   "id": "77153405",
   "metadata": {},
   "source": [
    "# Chapter 6 Exercises"
   ]
  },
  {
   "cell_type": "markdown",
   "id": "3097f07a",
   "metadata": {},
   "source": [
    "1. _What is the approximate depth of a Decision Tree trained (without restrictions) on a training set with one million instances?_<br>\n",
    "<br>\n",
    "O(log2(m)), so 6/log(2) = 19.931568569324174\n",
    "<br>\n",
    "<br>\n",
    "1. _Is a node’s Gini impurity generally lower or greater than its parent’s? Is it generally lower/greater, or always lower/greater?_<br>\n",
    "<br>\n",
    "The CART algorithm stops if it cannot reduce impurity. So, if it is measuring the sum of the impurity of the children, weighted by the number of instances associated with the node, it might allow a node to have higher unweighted impurity. However, if it stops if any child node is not more pure than the parent (unweighted), then the children are guaranteed to be more pure.\n",
    "<br><br>\n",
    "1. _If a Decision Tree is overfitting the training set, is it a good idea to try decreasing max_depth?_<br>\n",
    "<br>\n",
    "yes\n",
    "<br><br>\n",
    "1. _If a Decision Tree is underfitting the training set, is it a good idea to try scaling the input features?_<br>\n",
    "<br>\n",
    "no, decision trees don't require scaling\n",
    "<br><br>\n",
    "1. _If it takes one hour to train a Decision Tree on a training set containing 1 million instances, roughly how much time will it take to train another Decision Tree on a training set containing 10 million instances? Hint: consider the CART algorithm’s computational complexity._<br>\n",
    "<br>\n",
    "training complexity is O(n x mlog2(m)),<br>\n",
    "so 10^6 * log2(10^6) vs. 10^7 * log2(10^7)<br>\n",
    "20 vs. 10 * 23.253496664211536<br>\n",
    " 11.626748332105768 times longer\n",
    "<br><br>\n",
    "1. _If it takes one hour to train a Decision Tree on a given training set, roughly how much time will it take if you double the number of features?_<br>\n",
    "<br>\n",
    "2 hours\n",
    "<br><br>\n",
    "1. _Train and fine-tune a Decision Tree for the moons dataset by following these steps:_<br>\n",
    " 1. _Use make_moons(n_samples=10000, noise=0.4) to generate a moons dataset._<br>\n",
    " 1. _Use train_test_split() to split the dataset into a training set and a test set._<br>\n",
    " 1. _Use grid search with cross-validation (with the help of the GridSearchCV class) to find good hyperparameter values for a DecisionTreeClassifier. Hint: try various values for max_leaf_nodes._<br>\n",
    " 1. _Train it on the full training set using these hyperparameters, and measure your model’s performance on the test set. You should get roughly 85% to 87% accuracy._<br>"
   ]
  },
  {
   "cell_type": "code",
   "execution_count": null,
   "id": "4c61bad4",
   "metadata": {},
   "outputs": [],
   "source": []
  },
  {
   "cell_type": "markdown",
   "id": "bad31c49",
   "metadata": {},
   "source": [
    "8. _Grow a forest by following these steps:_<br>\n",
    "\n",
    " 1. _Continuing the previous exercise, generate 1,000 subsets of the training set, each containing 100 instances selected randomly. Hint: you can use Scikit-Learn’s ShuffleSplit class for this._<br>\n",
    "\n",
    " 1. _Train one Decision Tree on each subset, using the best hyperparameter values found in the previous exercise. Evaluate these 1,000 Decision Trees on the test set. Since they were trained on smaller sets, these Decision Trees will likely perform worse than the first Decision Tree, achieving only about 80% accuracy._<br>\n",
    "\n",
    " 1. _Now comes the magic. For each test set instance, generate the predictions of the 1,000 Decision Trees, and keep only the most frequent prediction (you can use SciPy’s mode() function for this). This approach gives you majority-vote predictions over the test set._<br>\n",
    "\n",
    " 1. _Evaluate these predictions on the test set: you should obtain a slightly higher accuracy than your first model (about 0.5 to 1.5% higher). Congratulations, you have trained a Random Forest classifier!_<br>"
   ]
  },
  {
   "cell_type": "code",
   "execution_count": null,
   "id": "7358fdab",
   "metadata": {},
   "outputs": [],
   "source": []
  }
 ],
 "metadata": {
  "kernelspec": {
   "display_name": "Python 3 (ipykernel)",
   "language": "python",
   "name": "python3"
  },
  "language_info": {
   "codemirror_mode": {
    "name": "ipython",
    "version": 3
   },
   "file_extension": ".py",
   "mimetype": "text/x-python",
   "name": "python",
   "nbconvert_exporter": "python",
   "pygments_lexer": "ipython3",
   "version": "3.8.9"
  }
 },
 "nbformat": 4,
 "nbformat_minor": 5
}

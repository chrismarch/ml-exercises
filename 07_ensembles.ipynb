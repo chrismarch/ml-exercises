{
 "cells": [
  {
   "cell_type": "markdown",
   "id": "77153405",
   "metadata": {},
   "source": [
    "# Chapter 7 Exercises"
   ]
  },
  {
   "cell_type": "markdown",
   "id": "3097f07a",
   "metadata": {},
   "source": [
    "1. _If you have trained five different models on the exact same training data, and they all achieve 95% precision, is there any chance that you can combine these models to get better results? If so, how? If not, why?_<br>\n",
    "<br>\n",
    "Yes, they may have different precision per instance, so comparing their per instance predictions, such as taking the mode or average, could be more precise.\n",
    "<br>\n",
    "<br>\n",
    "1. _What is the difference between hard and soft voting classifiers?_<br>\n",
    "<br>\n",
    "Hard classifiers pick one class, soft gives a confidence score per class<br><br>\n",
    "1. _Is it possible to speed up training of a bagging ensemble by distributing it across multiple servers? What about pasting ensembles, boosting ensembles, Random Forests, or stacking ensembles?_<br>\n",
    "<br>\n",
    "bagging, pasting (and random forests, which are trained with those techniques): yes<br>\n",
    "boosting, no, it needs sequential training<br>\n",
    "stacking ensembles: yes for the cross-validation predictions on each predictor, but no after that, since those predictions are inputs to the blender for training\n",
    "<br><br>\n",
    "1. _What is the benefit of out-of-bag evaluation?_<br>\n",
    "<br>\n",
    "you can use them similar to a validation set, without needing to hold one out, by gathering predictions from estimators for which an instance is oob\n",
    "<br><br>\n",
    "1. _What makes Extra-Trees more random than regular Random Forests? How can this extra randomness help? Are Extra-Trees slower or faster than regular Random Forests?_<br>\n",
    "<br>\n",
    "the split is at a random feature threshold, instead of searching for the best<br>\n",
    "it trades more bias for less variance, so it may help avoid overfitting<br>\n",
    "faster<br>\n",
    "<br><br>\n",
    "1. _If your AdaBoost ensemble underfits the training data, which hyperparameters should you tweak and how?_<br>\n",
    "<br>\n",
    "increase the number of estimators or reduce regularization of the base estimator.\n",
    "<br><br>\n",
    "1. _If your Gradient Boosting ensemble overfits the training set, should you increase or decrease the learning rate?_<br>\n",
    "<br>\n",
    "decrease\n",
    "<br><br>\n",
    "1. _Load the MNIST data (introduced in Chapter 3), and split it into a training set, a validation set, and a test set (e.g., use 50,000 instances for training, 10,000 for validation, and 10,000 for testing). Then train various classifiers, such as a Random Forest classifier, an Extra-Trees classifier, and an SVM classifier. Next, try to combine them into an ensemble that outperforms each individual classifier on the validation set, using soft or hard voting. Once you have found one, try it on the test set. How much better does it perform compared to the individual classifiers?_"
   ]
  },
  {
   "cell_type": "code",
   "execution_count": 1,
   "id": "f4ddb8ed",
   "metadata": {},
   "outputs": [],
   "source": []
  },
  {
   "cell_type": "markdown",
   "id": "01065ff7",
   "metadata": {},
   "source": [
    "9. _Run the individual classifiers from the previous exercise to make predictions on the validation set, and create a new training set with the resulting predictions: each training instance is a vector containing the set of predictions from all your classifiers for an image, and the target is the image’s class. Train a classifier on this new training set. Congratulations, you have just trained a blender, and together with the classifiers it forms a stacking ensemble! Now evaluate the ensemble on the test set. For each image in the test set, make predictions with all your classifiers, then feed the predictions to the blender to get the ensemble’s predictions. How does it compare to the voting classifier you trained earlier? Now try again using a StackingClassifier instead: do you get better performance? If so, why?_"
   ]
  },
  {
   "cell_type": "code",
   "execution_count": null,
   "id": "5573938a",
   "metadata": {},
   "outputs": [],
   "source": []
  }
 ],
 "metadata": {
  "kernelspec": {
   "display_name": "Python 3 (ipykernel)",
   "language": "python",
   "name": "python3"
  },
  "language_info": {
   "codemirror_mode": {
    "name": "ipython",
    "version": 3
   },
   "file_extension": ".py",
   "mimetype": "text/x-python",
   "name": "python",
   "nbconvert_exporter": "python",
   "pygments_lexer": "ipython3",
   "version": "3.8.9"
  }
 },
 "nbformat": 4,
 "nbformat_minor": 5
}

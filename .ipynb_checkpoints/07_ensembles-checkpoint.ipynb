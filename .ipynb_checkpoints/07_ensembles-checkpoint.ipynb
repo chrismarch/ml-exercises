{
 "cells": [
  {
   "cell_type": "markdown",
   "id": "77153405",
   "metadata": {},
   "source": [
    "# Chapter 7 Exercises"
   ]
  },
  {
   "cell_type": "markdown",
   "id": "3097f07a",
   "metadata": {},
   "source": [
    "1. _If you have trained five different models on the exact same training data, and they all achieve 95% precision, is there any chance that you can combine these models to get better results? If so, how? If not, why?_<br>\n",
    "<br>\n",
    "Yes, they may have different precision per instance, so comparing their per instance predictions, such as taking the mode or average, could be more precise.\n",
    "<br>\n",
    "<br>\n",
    "1. _What is the difference between hard and soft voting classifiers?_<br>\n",
    "<br>\n",
    "Hard classifiers pick one class, soft gives a confidence score per class<br><br>\n",
    "1. _Is it possible to speed up training of a bagging ensemble by distributing it across multiple servers? What about pasting ensembles, boosting ensembles, Random Forests, or stacking ensembles?_<br>\n",
    "<br>\n",
    "bagging, pasting (and random forests, which are trained with those techniques): yes<br>\n",
    "boosting, no, it needs sequential training<br>\n",
    "stacking ensembles: yes for the cross-validation predictions on each predictor, but no after that, since those predictions are inputs to the blender for training\n",
    "<br><br>\n",
    "1. _What is the benefit of out-of-bag evaluation?_<br>\n",
    "<br>\n",
    "you can use them similar to a validation set, without needing to hold one out, by gathering predictions from estimators for which an instance is oob\n",
    "<br><br>\n",
    "1. _What makes Extra-Trees more random than regular Random Forests? How can this extra randomness help? Are Extra-Trees slower or faster than regular Random Forests?_<br>\n",
    "<br>\n",
    "the split is at a random feature threshold, instead of searching for the best<br>\n",
    "it trades more bias for less variance, so it may help avoid overfitting<br>\n",
    "faster<br>\n",
    "<br><br>\n",
    "1. _If your AdaBoost ensemble underfits the training data, which hyperparameters should you tweak and how?_<br>\n",
    "<br>\n",
    "increase the number of estimators or reduce regularization of the base estimator.\n",
    "<br><br>\n",
    "1. _If your Gradient Boosting ensemble overfits the training set, should you increase or decrease the learning rate?_<br>\n",
    "<br>\n",
    "decrease\n",
    "<br><br>\n",
    "1. _Load the MNIST data (introduced in Chapter 3), and split it into a training set, a validation set, and a test set (e.g., use 50,000 instances for training, 10,000 for validation, and 10,000 for testing). Then train various classifiers, such as a Random Forest classifier, an Extra-Trees classifier, and an SVM classifier. Next, try to combine them into an ensemble that outperforms each individual classifier on the validation set, using soft or hard voting. Once you have found one, try it on the test set. How much better does it perform compared to the individual classifiers?_"
   ]
  },
  {
   "cell_type": "code",
   "execution_count": 2,
   "id": "f4ddb8ed",
   "metadata": {},
   "outputs": [],
   "source": [
    "from sklearn.datasets import fetch_openml\n",
    "from sklearn.model_selection import StratifiedShuffleSplit\n",
    "\n",
    "mnist = fetch_openml('mnist_784', version=1, as_frame=False)\n",
    "X, y = mnist[\"data\"], mnist[\"target\"]"
   ]
  },
  {
   "cell_type": "code",
   "execution_count": 3,
   "id": "9808bfea",
   "metadata": {},
   "outputs": [
    {
     "name": "stdout",
     "output_type": "stream",
     "text": [
      "(70000,)\n",
      "(50000,)\n",
      "(10000,)\n",
      "(10000,)\n"
     ]
    }
   ],
   "source": [
    "sss = StratifiedShuffleSplit(n_splits=1, random_state=0, test_size=10000)\n",
    "for train_index, test_index in sss.split(X, y):\n",
    "    X_train_val, X_test = X[train_index], X[test_index]\n",
    "    y_train_val, y_test = y[train_index], y[test_index]\n",
    "\n",
    "for train_index, test_index in sss.split(X_train_val, y_train_val):\n",
    "    X_train, X_val = X[train_index], X[test_index]\n",
    "    y_train, y_val = y[train_index], y[test_index]\n",
    "    \n",
    "print(y.shape)\n",
    "print(y_train.shape)\n",
    "print(y_val.shape)\n",
    "print(y_test.shape)"
   ]
  },
  {
   "cell_type": "code",
   "execution_count": 4,
   "id": "d23f1ac0",
   "metadata": {},
   "outputs": [
    {
     "name": "stdout",
     "output_type": "stream",
     "text": [
      "0.8723170024854632\n",
      "0.970646993269115\n",
      "0.8748138917263514\n"
     ]
    }
   ],
   "source": [
    "from sklearn.tree import DecisionTreeClassifier\n",
    "from sklearn.ensemble import ExtraTreesClassifier\n",
    "from sklearn.pipeline import make_pipeline\n",
    "from sklearn.preprocessing import StandardScaler\n",
    "from sklearn.svm import LinearSVC\n",
    "from sklearn.linear_model import SGDClassifier\n",
    "from sklearn.metrics import f1_score\n",
    "\n",
    "#svc = make_pipeline(StandardScaler(), LinearSVC(random_state=0))\n",
    "sgd = SGDClassifier(random_state=0)\n",
    "dtree = DecisionTreeClassifier(random_state=0)\n",
    "xtree = ExtraTreesClassifier(random_state=0)\n",
    "\n",
    "clfs = [dtree, xtree, sgd]\n",
    "for clf in clfs:\n",
    "    clf.fit(X_train, y_train)\n",
    "    y_val_pred = clf.predict(X_val)\n",
    "    print(f1_score(y_val_pred, y_val, average=\"macro\"))"
   ]
  },
  {
   "cell_type": "code",
   "execution_count": 5,
   "id": "22e44116",
   "metadata": {},
   "outputs": [],
   "source": [
    "import numpy as np\n",
    "from scipy.stats import mode\n",
    "\n",
    "def ensemble_predict(clfs, X, len_y):\n",
    "    y_preds = np.zeros((len_y, len(clfs)))\n",
    "\n",
    "    for i, clf in enumerate(clfs):\n",
    "        y_p = clf.predict(X)\n",
    "        for j, p in enumerate(y_p):\n",
    "            y_preds[j, i] = p\n",
    "\n",
    "    prediction = np.zeros(len_y)\n",
    "    for i, z in enumerate(prediction):\n",
    "        modes, counts = mode(y_preds[i])\n",
    "        prediction[i] = modes[0]\n",
    "\n",
    "    return prediction\n",
    "    \n",
    "y_val_ensem_predict = ensemble_predict(clfs, X_val, len(y_val))"
   ]
  },
  {
   "cell_type": "code",
   "execution_count": 6,
   "id": "d42a1022",
   "metadata": {},
   "outputs": [
    {
     "data": {
      "text/plain": [
       "0.9452319972731414"
      ]
     },
     "execution_count": 6,
     "metadata": {},
     "output_type": "execute_result"
    }
   ],
   "source": [
    "y_val_int = list(map(int, y_val))\n",
    "f1_score(y_val_ensem_predict, y_val_int, average=\"macro\")"
   ]
  },
  {
   "cell_type": "code",
   "execution_count": 7,
   "id": "880334b5",
   "metadata": {},
   "outputs": [
    {
     "data": {
      "text/plain": [
       "0.9059259624936432"
      ]
     },
     "execution_count": 7,
     "metadata": {},
     "output_type": "execute_result"
    }
   ],
   "source": [
    "np.mean([0.8723170024854632, 0.970646993269115, 0.8748138917263514])"
   ]
  },
  {
   "cell_type": "code",
   "execution_count": 8,
   "id": "090fbb08",
   "metadata": {},
   "outputs": [
    {
     "data": {
      "text/plain": [
       "0.9853954065635522"
      ]
     },
     "execution_count": 8,
     "metadata": {},
     "output_type": "execute_result"
    }
   ],
   "source": [
    "y_test_ensem_predict = ensemble_predict(clfs, X_test, len(y_test))\n",
    "y_test_int = list(map(int, y_test))\n",
    "f1_score(y_test_ensem_predict, y_test_int, average=\"macro\")"
   ]
  },
  {
   "cell_type": "markdown",
   "id": "01065ff7",
   "metadata": {},
   "source": [
    "9. _Run the individual classifiers from the previous exercise to make predictions on the validation set, and create a new training set with the resulting predictions: each training instance is a vector containing the set of predictions from all your classifiers for an image, and the target is the image’s class. Train a classifier on this new training set. Congratulations, you have just trained a blender, and together with the classifiers it forms a stacking ensemble! Now evaluate the ensemble on the test set. For each image in the test set, make predictions with all your classifiers, then feed the predictions to the blender to get the ensemble’s predictions. How does it compare to the voting classifier you trained earlier? Now try again using a StackingClassifier instead: do you get better performance? If so, why?_"
   ]
  },
  {
   "cell_type": "code",
   "execution_count": 9,
   "id": "5573938a",
   "metadata": {},
   "outputs": [],
   "source": [
    "def concat_predict(clfs, X, len_y):\n",
    "    y_preds = np.zeros((len_y, len(clfs)))\n",
    "\n",
    "    for i, clf in enumerate(clfs):\n",
    "        y_p = clf.predict(X)\n",
    "        for j, p in enumerate(y_p):\n",
    "            y_preds[j, i] = p\n",
    "\n",
    "    return y_preds\n",
    "\n",
    "y_val_concat_p = concat_predict(clfs, X_val, len(y_val))"
   ]
  },
  {
   "cell_type": "code",
   "execution_count": 11,
   "id": "01aefd82",
   "metadata": {},
   "outputs": [
    {
     "data": {
      "text/plain": [
       "(10000, 3)"
      ]
     },
     "execution_count": 11,
     "metadata": {},
     "output_type": "execute_result"
    }
   ],
   "source": [
    "y_val_concat_p.shape"
   ]
  },
  {
   "cell_type": "code",
   "execution_count": 25,
   "id": "0a9f1121",
   "metadata": {},
   "outputs": [
    {
     "data": {
      "text/plain": [
       "0.973076766749875"
      ]
     },
     "execution_count": 25,
     "metadata": {},
     "output_type": "execute_result"
    }
   ],
   "source": [
    "from sklearn.linear_model import LogisticRegression\n",
    "#svc_stack = make_pipeline(StandardScaler(), LinearSVC(random_state=0))\n",
    "#svc_stack.fit(y_val_concat_p, y_val)\n",
    "stack = LogisticRegression(random_state=0, max_iter=1000)\n",
    "#stack = ExtraTreesClassifier(random_state=0)\n",
    "\n",
    "stack.fit(y_val_concat_p, y_val)\n",
    "y_test_concat_p = concat_predict(clfs, X_test, len(y_test))\n",
    "y_test_p_stack = stack.predict(y_test_concat_p)\n",
    "f1_score(y_test_p_stack, y_test, average=\"macro\")"
   ]
  },
  {
   "cell_type": "markdown",
   "id": "1bec6bfa",
   "metadata": {},
   "source": [
    "(slightly worse than the voting classifier from Ex. 8)"
   ]
  },
  {
   "cell_type": "code",
   "execution_count": 24,
   "id": "3d05df06",
   "metadata": {},
   "outputs": [
    {
     "data": {
      "text/plain": [
       "0.8873102473559408"
      ]
     },
     "execution_count": 24,
     "metadata": {},
     "output_type": "execute_result"
    }
   ],
   "source": [
    "from sklearn.ensemble import StackingClassifier\n",
    "sgd = SGDClassifier(random_state=0)\n",
    "dtree = DecisionTreeClassifier(random_state=0)\n",
    "xtree = ExtraTreesClassifier(random_state=0)\n",
    "estimators = [\n",
    "     ('dt', dtree),\n",
    "     ('xt', xtree),\n",
    "     ('sgd', sgd)\n",
    "]\n",
    "\n",
    "clf = StackingClassifier(estimators=estimators, final_estimator=LogisticRegression(random_state=0, max_iter=1000))\n",
    "#clf.fit(X_val, y_val)\n",
    "clf.fit(X_train, y_train)\n",
    "y_test_p_stack2 = clf.predict(X_test)\n",
    "f1_score(y_test_p_stack2, y_test, average=\"macro\")"
   ]
  },
  {
   "cell_type": "markdown",
   "id": "909f1d83",
   "metadata": {},
   "source": [
    "no, even worse (however, in general it is a good idea to use, as you can fold the validation set into training since it uses CV, and it uses more accurate stacking methods, if available for the estimators)"
   ]
  },
  {
   "cell_type": "code",
   "execution_count": null,
   "id": "7169a06a",
   "metadata": {},
   "outputs": [],
   "source": []
  }
 ],
 "metadata": {
  "kernelspec": {
   "display_name": "Python 3 (ipykernel)",
   "language": "python",
   "name": "python3"
  },
  "language_info": {
   "codemirror_mode": {
    "name": "ipython",
    "version": 3
   },
   "file_extension": ".py",
   "mimetype": "text/x-python",
   "name": "python",
   "nbconvert_exporter": "python",
   "pygments_lexer": "ipython3",
   "version": "3.8.9"
  }
 },
 "nbformat": 4,
 "nbformat_minor": 5
}

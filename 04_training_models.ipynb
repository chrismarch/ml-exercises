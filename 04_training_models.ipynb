{
 "cells": [
  {
   "cell_type": "markdown",
   "id": "77153405",
   "metadata": {},
   "source": [
    "# Chapter 4 Exercises"
   ]
  },
  {
   "cell_type": "markdown",
   "id": "3097f07a",
   "metadata": {},
   "source": [
    "1. _Which Linear Regression training algorithm can you use if you have a training set with millions of features?_<br>\n",
    "SGD, esp. batch\n",
    "1. _Suppose the features in your training set have very different scales. Which algorithms might suffer from this, and how? What can you do about it?_<br>\n",
    "most of them. will introduce bias\n",
    "    1. nn: min max scaling. otherwise: standardization (bias removal)\n",
    "1. _Can Gradient Descent get stuck in a local minimum when training a Logistic Regression model?_<br>\n",
    "no, it has a convex cost function\n",
    "1. _Do all Gradient Descent algorithms lead to the same model, provided you let them run long enough?_<br> only if they converge at the global minimum\n",
    "1. _Suppose you use Batch Gradient Descent and you plot the validation error at every epoch. If you notice that the validation error consistently goes up, what is likely going on? How can you fix this?_<br>\n",
    "it is overfitting. record the minimum, wait for it to be above for a while, and then roll back [could also be diverging due to too high learning rate if training error is going up too]\n",
    "1. _Is it a good idea to stop Mini-batch Gradient Descent immediately when the validation error goes up?_<br>\n",
    "no, you might not have converged to the global minimum yet. record minimum and wait to roll back\n",
    "1. _Which Gradient Descent algorithm (among those we discussed) will reach the vicinity of the optimal solution the fastest? Which will actually converge? How can you make the others converge as well?_\n",
    "    1. stochastic\n",
    "    1. batch, but any if right learning rate, or decreasing learning rate\n",
    "    1. decrease learning rate in vicinity, and/or roll back\n",
    "1. _Suppose you are using Polynomial Regression. You plot the learning curves and you notice that there is a large gap between the training error and the validation error. What is happening? What are three ways to solve this?_<br>\n",
    "overfitting the training data\n",
    "    1. regularization\n",
    "    1. reduce complexity of model\n",
    "    1. more training data\n",
    "1. _Suppose you are using Ridge Regression and you notice that the training error and the validation error are almost equal and fairly high. Would you say that the model suffers from high bias or high variance? Should you increase the regularization hyperparameter α or reduce it?_<br>\n",
    "underfitting: bias\n",
    "    1. reduce it\n",
    "1. _Why would you want to use:_\n",
    "    1. _Ridge Regression instead of plain Linear Regression (i.e., without any regularization)?_<br>\n",
    "    to reduce overfitting, esp. with polynomial feature creation\n",
    "    1. _Lasso instead of Ridge Regression?_<br>\n",
    "    implements a sort of feature selection, and helps GD converge\n",
    "    1. _Elastic Net instead of Lasso?_<br>\n",
    "    Elastic Net is less eratic than Lasso\n",
    "    1. (default: Ridge, unless you think only a few features are useful, then Elastic Net)\n",
    "1. _Suppose you want to classify pictures as outdoor/indoor and daytime/nighttime. Should you implement two Logistic Regression classifiers or one Softmax Regression classifier?_<br>\n",
    "2 logistic regression, as the two classes are mutually independent"
   ]
  },
  {
   "cell_type": "markdown",
   "id": "f7bce896",
   "metadata": {},
   "source": [
    "12. _Implement Batch Gradient Descent with early stopping for Softmax Regression (without using Scikit-Learn)._"
   ]
  },
  {
   "cell_type": "code",
   "execution_count": null,
   "id": "8c06a029",
   "metadata": {},
   "outputs": [],
   "source": [
    "from copy import deepcopy\n",
    "\n",
    "eta = 0.1  # learning rate\n",
    "n_iterations = 1000\n",
    "m = 100\n",
    "\n",
    "theta = np.random.randn(2,1)  # random initialization\n",
    "\n",
    "for iteration in range(n_iterations):\n",
    "    gradients = 2/m * X_b.T.dot(X_b.dot(theta) - y)\n",
    "    theta = theta - eta * gradients\n",
    "    \n",
    "    \n",
    "# prepare the data\n",
    "poly_scaler = Pipeline([\n",
    "        (\"poly_features\", PolynomialFeatures(degree=90, include_bias=False)),\n",
    "        (\"std_scaler\", StandardScaler())\n",
    "    ])\n",
    "X_train_poly_scaled = poly_scaler.fit_transform(X_train)\n",
    "X_val_poly_scaled = poly_scaler.transform(X_val)\n",
    "\n",
    "sgd_reg = SGDRegressor(max_iter=1, tol=-np.infty, warm_start=True,\n",
    "                       penalty=None, learning_rate=\"constant\", eta0=0.0005)\n",
    "\n",
    "minimum_val_error = float(\"inf\")\n",
    "best_epoch = None\n",
    "best_model = None\n",
    "for epoch in range(1000):\n",
    "    sgd_reg.fit(X_train_poly_scaled, y_train)  # continues where it left off\n",
    "    y_val_predict = sgd_reg.predict(X_val_poly_scaled)\n",
    "    val_error = mean_squared_error(y_val, y_val_predict)\n",
    "    if val_error < minimum_val_error:\n",
    "        minimum_val_error = val_error\n",
    "        best_epoch = epoch\n",
    "        best_model = deepcopy(sgd_reg)"
   ]
  },
  {
   "cell_type": "code",
   "execution_count": 84,
   "id": "ae57383d",
   "metadata": {},
   "outputs": [],
   "source": [
    "import numpy as np\n",
    "\n",
    "def softmax_score(x_i, param_matrix, k):\n",
    "    return np.dot(param_matrix[k], x_i)\n",
    "\n",
    "def softmax(x_i, param_matrix, k):\n",
    "    num_classes = param_matrix.shape[0]\n",
    "    result = np.zeros(num_classes)\n",
    "    for j in range(num_classes):\n",
    "        result[j] = np.exp(softmax_score(x_i, param_matrix, j))\n",
    "    score_sum = np.sum(result)\n",
    "    return result[k]/score_sum\n",
    "        \n",
    "def softmax_grad(X, y, param_matrix, k):\n",
    "    m = X.shape[0]\n",
    "    sum = np.zeros(X.shape[1])\n",
    "    for i in range(m):\n",
    "        x_i = X[i]\n",
    "        sum += np.multiply((softmax(x_i, param_matrix, k) - y[i][k]), x_i)\n",
    "    return np.divide(sum, m)\n",
    "\n",
    "# TODO vectorize\n",
    "def softmax_grads(X, y, param_matrix):\n",
    "    num_classes = param_matrix.shape[0]\n",
    "    result = np.zeros(param_matrix.shape)\n",
    "    for k in range(num_classes):\n",
    "        result[k] = softmax_grad(X, y, param_matrix, k)\n",
    "    return result\n",
    "\n",
    "def softmax_predict_proba(X, param_matrix):\n",
    "    m = X.shape[0]\n",
    "    n_classes = param_matrix.shape[0]\n",
    "    result = np.zeros((m, n_classes))\n",
    "    for i in range(m):\n",
    "        for k in range(n_classes):\n",
    "            result[i][k] = softmax(X[i], param_matrix, k)\n",
    "    return result   \n",
    "\n",
    "def cross_entropy_cost(predict_proba, y):\n",
    "    m = y.shape[0]\n",
    "    k = predict_proba.shape[1]\n",
    "    sum = 0\n",
    "    for i in range(m):\n",
    "        for j in range(k):\n",
    "           sum += y[i][j] * np.log(predict_proba[i][j])\n",
    "    return -sum/m"
   ]
  },
  {
   "cell_type": "code",
   "execution_count": null,
   "id": "cf9d9ada",
   "metadata": {},
   "outputs": [],
   "source": [
    "from sklearn import datasets\n",
    "from sklearn.preprocessing import OneHotEncoder\n",
    "\n",
    "iris = datasets.load_iris()\n",
    "\n",
    "X = iris[\"data\"][:, (2, 3)]  # petal length, petal width\n",
    "yc = iris[\"target\"]\n",
    "#cats = Setosa, Versicolour, and Virginica\n",
    "print(X.shape)\n",
    "y = np.zeros((yc.shape[0], 3))\n",
    "for i, c in enumerate(yc):\n",
    "    y[i][c] = 1\n",
    "#onehot = OneHotEncoder()\n",
    "#y = onehot.fit_transform(y)\n",
    "#print(y)\n",
    "#print(y[0])\n",
    "pp = softmax_predict_proba()"
   ]
  },
  {
   "cell_type": "markdown",
   "id": "6c6af3ee",
   "metadata": {},
   "source": [
    "## softmax batch gradient descent"
   ]
  },
  {
   "cell_type": "code",
   "execution_count": 78,
   "id": "a9a1f9cb",
   "metadata": {},
   "outputs": [
    {
     "data": {
      "text/plain": [
       "array([[ 0.60037788, -4.65053192],\n",
       "       [-0.57849384,  0.35667315],\n",
       "       [-1.67749522,  3.75841022]])"
      ]
     },
     "execution_count": 78,
     "metadata": {},
     "output_type": "execute_result"
    }
   ],
   "source": [
    "eta = 0.1  # learning rate\n",
    "n_iterations = 1000\n",
    "m = 100\n",
    "\n",
    "theta = np.random.randn(3, 2)  # random initialization\n",
    "\n",
    "for iteration in range(n_iterations):\n",
    "    gradients = softmax_grads(X, y, theta)\n",
    "    theta = theta - eta * gradients\n",
    "    \n",
    "theta"
   ]
  },
  {
   "cell_type": "markdown",
   "id": "388c0e6a",
   "metadata": {},
   "source": [
    "## softmax batch gradient descent with early stopping"
   ]
  },
  {
   "cell_type": "code",
   "execution_count": null,
   "id": "811c835b",
   "metadata": {},
   "outputs": [],
   "source": [
    "minimum_val_error = float(\"inf\")\n",
    "best_epoch = None\n",
    "best_model = None\n",
    "theta = np.random.randn(3, 2)  # random initialization\n",
    "best_theta = theta.copy()\n",
    "for epoch in range(1000):\n",
    "    gradients = softmax_grads(X, y, theta)\n",
    "    theta = theta - eta * gradients\n",
    "\n",
    "    y_val_predict = softmax_predict_proba(X, theta)\n",
    "    val_error = cross_entropy_cost(y_val_predict, y)\n",
    "    print(epoch, val_error, minimum_val_error)\n",
    "    if val_error < minimum_val_error:\n",
    "        minimum_val_error = val_error\n",
    "        best_epoch = epoch\n",
    "#        print(epoch)\n",
    "        print(y_val_predict)\n",
    "        best_theta = theta.copy()\n",
    "theta = best_theta"
   ]
  },
  {
   "cell_type": "code",
   "execution_count": 86,
   "id": "a516ad0f",
   "metadata": {},
   "outputs": [
    {
     "name": "stdout",
     "output_type": "stream",
     "text": [
      "2\n",
      "[0, 0, 0, 0, 0, 1, 0, 0, 0, 0, 0, 0, 0, 0, 0, 1, 1, 0, 0, 0, 0, 1, 0, 1, 0, 0, 1, 0, 0, 0, 0, 1, 0, 0, 0, 0, 0, 0, 0, 0, 0, 0, 0, 2, 0, 0, 0, 0, 0, 0, 1, 2, 1, 2, 2, 1, 2, 1, 1, 2, 1, 2, 1, 1, 2, 1, 2, 1, 2, 1, 2, 2, 1, 1, 1, 1, 1, 2, 2, 1, 1, 1, 1, 1, 2, 2, 1, 1, 1, 2, 1, 1, 1, 1, 1, 1, 1, 1, 2, 1, 2, 2, 2, 1, 2, 1, 2, 1, 1, 2, 2, 2, 2, 2, 2, 2, 2, 2, 2, 1, 2, 2, 1, 2, 2, 1, 2, 2, 2, 1, 1, 1, 2, 1, 1, 2, 2, 2, 2, 2, 2, 2, 2, 2, 2, 2, 2, 2, 2, 2]\n",
      "[[0.00360377 0.20721639 0.78917984]]\n"
     ]
    }
   ],
   "source": [
    "print(np.argmax(np.dot(theta, [5,2])))\n",
    "predictions = []\n",
    "for x_i in X:\n",
    "    predictions.append(np.argmax(np.dot(theta, x_i)))\n",
    "print(predictions)\n",
    "#np.argmax(np.dot(theta, X))\n",
    "\n",
    "predict_p = []\n",
    "for x_i in X:\n",
    "    predict_p.append((np.dot(theta, x_i)))\n",
    "print(softmax_predict_proba(np.array([[5,2]]), theta))\n"
   ]
  },
  {
   "cell_type": "code",
   "execution_count": 88,
   "id": "0b64ba6e",
   "metadata": {},
   "outputs": [
    {
     "data": {
      "text/plain": [
       "array([[ 0.98460335, -5.33448553],\n",
       "       [-0.15859576, -0.45059651],\n",
       "       [-1.28642178,  3.03758384]])"
      ]
     },
     "execution_count": 88,
     "metadata": {},
     "output_type": "execute_result"
    }
   ],
   "source": [
    "theta"
   ]
  },
  {
   "cell_type": "markdown",
   "id": "120ec214",
   "metadata": {},
   "source": [
    "## sklearn softmax regression reference values"
   ]
  },
  {
   "cell_type": "code",
   "execution_count": 72,
   "id": "0d6bd9a2",
   "metadata": {},
   "outputs": [
    {
     "name": "stdout",
     "output_type": "stream",
     "text": [
      "[2]\n"
     ]
    },
    {
     "data": {
      "text/plain": [
       "array([[6.38014896e-07, 5.74929995e-02, 9.42506362e-01]])"
      ]
     },
     "execution_count": 72,
     "metadata": {},
     "output_type": "execute_result"
    }
   ],
   "source": [
    "from sklearn.linear_model import LogisticRegression\n",
    "\n",
    "softmax_reg = LogisticRegression(multi_class=\"multinomial\",solver=\"lbfgs\", C=10)\n",
    "softmax_reg.fit(X, yc)\n",
    "print(softmax_reg.predict([[5, 2]]))\n",
    "softmax_reg.predict_proba([[5, 2]])"
   ]
  },
  {
   "cell_type": "code",
   "execution_count": 36,
   "id": "eeb0bc4a",
   "metadata": {},
   "outputs": [
    {
     "data": {
      "text/plain": [
       "array([[-4.58614563, -2.24129385],\n",
       "       [ 0.16068263, -2.15860167],\n",
       "       [ 4.425463  ,  4.39989552]])"
      ]
     },
     "execution_count": 36,
     "metadata": {},
     "output_type": "execute_result"
    }
   ],
   "source": [
    "softmax_reg.coef_"
   ]
  },
  {
   "cell_type": "code",
   "execution_count": 53,
   "id": "d11c415f",
   "metadata": {},
   "outputs": [],
   "source": [
    "smrp = softmax_reg.predict(X)"
   ]
  },
  {
   "cell_type": "code",
   "execution_count": 87,
   "id": "2f2e9757",
   "metadata": {},
   "outputs": [
    {
     "data": {
      "text/plain": [
       "array([ 0,  0,  0,  0,  0, -1,  0,  0,  0,  0,  0,  0,  0,  0,  0, -1, -1,\n",
       "        0,  0,  0,  0, -1,  0, -1,  0,  0, -1,  0,  0,  0,  0, -1,  0,  0,\n",
       "        0,  0,  0,  0,  0,  0,  0,  0,  0, -2,  0,  0,  0,  0,  0,  0,  0,\n",
       "       -1,  0, -1, -1,  0, -1,  0,  0, -1,  0, -1,  0,  0, -1,  0, -1,  0,\n",
       "       -1,  0,  0, -1,  0,  0,  0,  0,  0,  0, -1,  0,  0,  0,  0,  1, -1,\n",
       "       -1,  0,  0,  0, -1,  0,  0,  0,  0,  0,  0,  0,  0, -1,  0,  0,  0,\n",
       "        0,  1,  0,  1, -1,  1,  1,  0,  0,  0,  0,  0,  0,  0,  0,  0,  0,\n",
       "        0,  0,  0,  1,  0,  0,  1,  0,  0,  0,  1,  1,  1,  0,  0,  1,  0,\n",
       "        0,  0,  0,  0,  0,  0,  0,  0,  0,  0,  0,  0,  0,  0])"
      ]
     },
     "execution_count": 87,
     "metadata": {},
     "output_type": "execute_result"
    }
   ],
   "source": [
    "smrp - predictions"
   ]
  }
 ],
 "metadata": {
  "kernelspec": {
   "display_name": "Python 3 (ipykernel)",
   "language": "python",
   "name": "python3"
  },
  "language_info": {
   "codemirror_mode": {
    "name": "ipython",
    "version": 3
   },
   "file_extension": ".py",
   "mimetype": "text/x-python",
   "name": "python",
   "nbconvert_exporter": "python",
   "pygments_lexer": "ipython3",
   "version": "3.8.9"
  }
 },
 "nbformat": 4,
 "nbformat_minor": 5
}
